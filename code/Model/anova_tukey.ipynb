{
 "cells": [
  {
   "cell_type": "code",
   "execution_count": 7,
   "id": "fa6b99c4-beae-49e5-b99f-081b78113e40",
   "metadata": {
    "id": "4d588440"
   },
   "outputs": [],
   "source": [
    "import pandas as pd\n",
    "import numpy as np\n",
    "from scipy import stats\n",
    "from statsmodels.formula.api import ols\n",
    "from statsmodels.stats.anova import anova_lm\n",
    "from statsmodels.stats.multicomp import pairwise_tukeyhsd"
   ]
  },
  {
   "cell_type": "code",
   "execution_count": 9,
   "id": "e653fcb2-fd6c-4f25-aafb-b497da3a82f8",
   "metadata": {},
   "outputs": [],
   "source": [
    "# read data\n",
    "df1 = pd.read_csv('df_main.csv',index_col=0)\n",
    "df_bp = pd.read_csv('df_businessparking.csv',index_col=0)\n",
    "df_m = pd.read_csv('df_music.csv',index_col=0)\n",
    "df_a = pd.read_csv('df_ambience.csv',index_col=0)"
   ]
  },
  {
   "cell_type": "code",
   "execution_count": 10,
   "id": "cfac741f-cd4d-4e53-ade8-fa0f1c6b94bd",
   "metadata": {
    "colab": {
     "base_uri": "https://localhost:8080/"
    },
    "id": "3aa8750e",
    "outputId": "7608d665-4c03-4c6d-b12b-b9245f7ab970"
   },
   "outputs": [
    {
     "name": "stdout",
     "output_type": "stream",
     "text": [
      "                                  df      sum_sq    mean_sq          F  \\\n",
      "C(NoiseLevel)                    3.0   15.340208   5.113403  27.657016   \n",
      "C(BikeParking)                   1.0    0.150910   0.150910   0.816232   \n",
      "C(BusinessAcceptsCreditCards)    1.0    0.506040   0.506040   2.737034   \n",
      "C(RestaurantsReservations)       1.0    1.777579   1.777579   9.614444   \n",
      "C(RestaurantsTakeOut)            1.0    1.666594   1.666594   9.014157   \n",
      "C(WiFi)                          2.0    0.530615   0.265307   1.434977   \n",
      "C(RestaurantsDelivery)           1.0    1.393333   1.393333   7.536162   \n",
      "C(HasTV)                         1.0   11.077203  11.077203  59.913602   \n",
      "C(RestaurantsPriceRange2)        3.0    0.696107   0.232036   1.255019   \n",
      "C(Alcohol)                       2.0    0.197467   0.098733   0.534022   \n",
      "C(RestaurantsGoodForGroups)      1.0    0.400753   0.400753   2.167563   \n",
      "C(OutdoorSeating)                1.0    0.134605   0.134605   0.728041   \n",
      "C(HappyHour)                     1.0    0.855856   0.855856   4.629096   \n",
      "Residual                       914.0  168.986060   0.184886        NaN   \n",
      "\n",
      "                                     PR(>F)  \n",
      "C(NoiseLevel)                  4.004154e-17  \n",
      "C(BikeParking)                 3.665223e-01  \n",
      "C(BusinessAcceptsCreditCards)  9.838996e-02  \n",
      "C(RestaurantsReservations)     1.989712e-03  \n",
      "C(RestaurantsTakeOut)          2.751863e-03  \n",
      "C(WiFi)                        2.386569e-01  \n",
      "C(RestaurantsDelivery)         6.165922e-03  \n",
      "C(HasTV)                       2.620991e-14  \n",
      "C(RestaurantsPriceRange2)      2.886469e-01  \n",
      "C(Alcohol)                     5.864253e-01  \n",
      "C(RestaurantsGoodForGroups)    1.412937e-01  \n",
      "C(OutdoorSeating)              3.937426e-01  \n",
      "C(HappyHour)                   3.169555e-02  \n",
      "Residual                                NaN  \n"
     ]
    }
   ],
   "source": [
    "# ANOVA Part1\n",
    "formula = 'stars~C(NoiseLevel)+C(BikeParking)+C(BusinessAcceptsCreditCards)+C(RestaurantsReservations)+C(RestaurantsTakeOut)+C(WiFi)+C(RestaurantsDelivery)+C(HasTV)+C(RestaurantsPriceRange2)+C(Alcohol)+C(RestaurantsGoodForGroups)+C(OutdoorSeating)+C(HappyHour)'\n",
    "anova1 = anova_lm(ols(formula,df1).fit())\n",
    "print(anova1)\n",
    "# NoiseLevel, BikeParking, RestaurantsReservations, RestaurantsTakeOut, RestaurantsDelivery, HasTV, HappyHour are significant. Next we will apply Tuckey multiple comparison."
   ]
  },
  {
   "cell_type": "code",
   "execution_count": 11,
   "id": "1dba9389-24cb-4824-8d0b-b6155ea3090d",
   "metadata": {
    "colab": {
     "base_uri": "https://localhost:8080/"
    },
    "id": "1d44d50d",
    "outputId": "12303f36-c3fc-4968-8f39-046f9acac7f7"
   },
   "outputs": [
    {
     "name": "stdout",
     "output_type": "stream",
     "text": [
      "  Multiple Comparison of Means - Tukey HSD, FWER=0.05   \n",
      "========================================================\n",
      " group1   group2  meandiff p-adj   lower   upper  reject\n",
      "--------------------------------------------------------\n",
      "average      loud  -0.1297 0.0113 -0.2379 -0.0215   True\n",
      "average     quiet   0.0553 0.8269  -0.119  0.2296  False\n",
      "average very_loud  -0.7823  0.001 -1.0277  -0.537   True\n",
      "   loud     quiet    0.185 0.0725  -0.011   0.381  False\n",
      "   loud very_loud  -0.6527  0.001 -0.9138 -0.3915   True\n",
      "  quiet very_loud  -0.8377  0.001 -1.1324 -0.5429   True\n",
      "--------------------------------------------------------\n"
     ]
    }
   ],
   "source": [
    "# Tuckey Multiple Comparison\n",
    "NL = pairwise_tukeyhsd(df1['stars'],df1['NoiseLevel'])\n",
    "print(NL.summary())\n",
    "# NoiseLevel: very_loud has less stars than average or very_quiet"
   ]
  },
  {
   "cell_type": "code",
   "execution_count": 12,
   "id": "b17f6a06-9142-47df-84e0-32e75b4c1a24",
   "metadata": {
    "colab": {
     "base_uri": "https://localhost:8080/"
    },
    "id": "2f411c91",
    "outputId": "4fd1903f-55c9-4a95-d7f2-6f5d99b86d43"
   },
   "outputs": [
    {
     "name": "stdout",
     "output_type": "stream",
     "text": [
      "Multiple Comparison of Means - Tukey HSD, FWER=0.05\n",
      "===================================================\n",
      "group1 group2 meandiff p-adj   lower  upper  reject\n",
      "---------------------------------------------------\n",
      " False   True   0.0413 0.1767 -0.0187 0.1013  False\n",
      "---------------------------------------------------\n"
     ]
    }
   ],
   "source": [
    "RD = pairwise_tukeyhsd(df1['stars'],df1['RestaurantsDelivery'])\n",
    "print(RD.summary())\n",
    "# RestaurantsDelivery: False has less stars than True"
   ]
  },
  {
   "cell_type": "code",
   "execution_count": 13,
   "id": "90c36c2c-8406-4688-ad95-08bf8fcc7dc4",
   "metadata": {
    "colab": {
     "base_uri": "https://localhost:8080/",
     "height": 364
    },
    "id": "a0e1ef8f",
    "outputId": "ca9e1ad8-e294-437b-c402-49d378b7ae6a"
   },
   "outputs": [
    {
     "name": "stdout",
     "output_type": "stream",
     "text": [
      "Multiple Comparison of Means - Tukey HSD, FWER=0.05\n",
      "===================================================\n",
      "group1 group2 meandiff p-adj  lower   upper  reject\n",
      "---------------------------------------------------\n",
      " False   True  -0.2696 0.001 -0.3326 -0.2065   True\n",
      "---------------------------------------------------\n"
     ]
    }
   ],
   "source": [
    "HT = pairwise_tukeyhsd(df1['stars'],df1['HasTV'])\n",
    "print(HT.summary())\n",
    "# HasTV: True has less stars than average or False (maybe it is consistent with preference in quiet places)"
   ]
  },
  {
   "cell_type": "code",
   "execution_count": 14,
   "id": "c09c9a29-c56d-4c16-a95d-196f8a40bf46",
   "metadata": {
    "colab": {
     "base_uri": "https://localhost:8080/"
    },
    "id": "5eb2bd50",
    "outputId": "f663b48b-9ce3-4e0f-aacd-6ac53f317360"
   },
   "outputs": [
    {
     "name": "stdout",
     "output_type": "stream",
     "text": [
      "Multiple Comparison of Means - Tukey HSD, FWER=0.05\n",
      "===================================================\n",
      "group1 group2 meandiff p-adj   lower  upper  reject\n",
      "---------------------------------------------------\n",
      " False   True  -0.0586 0.0618 -0.1201 0.0029  False\n",
      "---------------------------------------------------\n"
     ]
    }
   ],
   "source": [
    "RR = pairwise_tukeyhsd(df1['stars'],df1['RestaurantsReservations'])\n",
    "print(RR.summary())\n",
    "# RestaurantsReservations: True has less stars than False"
   ]
  },
  {
   "cell_type": "code",
   "execution_count": 15,
   "id": "3c5f6cea-5dfd-4f20-8e05-e3acf5f33a1d",
   "metadata": {
    "colab": {
     "base_uri": "https://localhost:8080/"
    },
    "id": "5eb2bd50",
    "outputId": "f663b48b-9ce3-4e0f-aacd-6ac53f317360"
   },
   "outputs": [
    {
     "name": "stdout",
     "output_type": "stream",
     "text": [
      "Multiple Comparison of Means - Tukey HSD, FWER=0.05\n",
      "==================================================\n",
      "group1 group2 meandiff p-adj   lower  upper reject\n",
      "--------------------------------------------------\n",
      " False   True  -0.0633 0.0734 -0.1325 0.006  False\n",
      "--------------------------------------------------\n"
     ]
    }
   ],
   "source": [
    "RT = pairwise_tukeyhsd(df1['stars'],df1['RestaurantsTakeOut'])\n",
    "print(RT.summary())\n",
    "# RestaurantsTakeOut: No significant difference"
   ]
  },
  {
   "cell_type": "code",
   "execution_count": 16,
   "id": "86984a2f-b51c-4479-b1bd-153ceaf35e93",
   "metadata": {
    "colab": {
     "base_uri": "https://localhost:8080/"
    },
    "id": "c3a5ff61",
    "outputId": "64abce59-f8b5-40d8-aca5-fa8e88a7963e"
   },
   "outputs": [
    {
     "name": "stdout",
     "output_type": "stream",
     "text": [
      "                  df      sum_sq   mean_sq          F        PR(>F)\n",
      "C(garage)        1.0    1.196757  1.196757   4.466788  3.474542e-02\n",
      "C(street)        1.0    8.897256  8.897256  33.208209  1.027393e-08\n",
      "C(valet)         1.0    0.629200  0.629200   2.348433  1.256465e-01\n",
      "C(validated)     1.0    0.090530  0.090530   0.337895  5.611454e-01\n",
      "C(lot)           1.0    1.208607  1.208607   4.511016  3.386107e-02\n",
      "Residual      1332.0  356.873951  0.267923        NaN           NaN\n"
     ]
    }
   ],
   "source": [
    "# ANOVA Part2(Business Parking)\n",
    "formula = 'stars~C(garage)+C(street)+C(valet)+C(validated)+C(lot)'\n",
    "anova2 = anova_lm(ols(formula,df_bp).fit())\n",
    "print(anova2)\n",
    "# Street and garage are significant. "
   ]
  },
  {
   "cell_type": "code",
   "execution_count": 17,
   "id": "84862799-2be0-4e8f-b989-b74f579f51e4",
   "metadata": {
    "colab": {
     "base_uri": "https://localhost:8080/",
     "height": 398
    },
    "id": "6b8d009a",
    "outputId": "c5ac0bad-9b25-43a5-e10c-821a6e58206d"
   },
   "outputs": [
    {
     "name": "stdout",
     "output_type": "stream",
     "text": [
      "Multiple Comparison of Means - Tukey HSD, FWER=0.05\n",
      "=================================================\n",
      "group1 group2 meandiff p-adj lower  upper  reject\n",
      "-------------------------------------------------\n",
      " False   True   0.1585 0.001 0.1022 0.2148   True\n",
      "-------------------------------------------------\n"
     ]
    }
   ],
   "source": [
    "# Tuckey Multiple Comparison\n",
    "S = pairwise_tukeyhsd(df_bp['stars'],df_bp['street'])\n",
    "print(S.summary())\n",
    "# street: False has less stars than True"
   ]
  },
  {
   "cell_type": "code",
   "execution_count": 18,
   "id": "c7b70e41-cc12-4583-a343-8574a35e33e8",
   "metadata": {
    "colab": {
     "base_uri": "https://localhost:8080/",
     "height": 364
    },
    "id": "6b8d009a",
    "outputId": "ac056559-85fb-4349-bc75-3fcfc2064efd"
   },
   "outputs": [
    {
     "name": "stdout",
     "output_type": "stream",
     "text": [
      "Multiple Comparison of Means - Tukey HSD, FWER=0.05 \n",
      "====================================================\n",
      "group1 group2 meandiff p-adj   lower   upper  reject\n",
      "----------------------------------------------------\n",
      " False   True  -0.0776 0.0372 -0.1506 -0.0046   True\n",
      "----------------------------------------------------\n"
     ]
    }
   ],
   "source": [
    "G = pairwise_tukeyhsd(df_bp['stars'],df_bp['garage'])\n",
    "print(G.summary())\n",
    "# garage: True has less stars than False"
   ]
  },
  {
   "cell_type": "code",
   "execution_count": 19,
   "id": "ecd2becf-2a60-4930-b073-1b04145d4acf",
   "metadata": {
    "colab": {
     "base_uri": "https://localhost:8080/"
    },
    "id": "ee324284",
    "outputId": "046ab1af-b308-4580-ea78-9c0106fc70a6"
   },
   "outputs": [
    {
     "name": "stdout",
     "output_type": "stream",
     "text": [
      "                         df      sum_sq   mean_sq          F        PR(>F)\n",
      "C(dj)                   1.0    9.300811  9.300811  34.860620  4.488710e-09\n",
      "C(background_music)     1.0    1.971737  1.971737   7.390319  6.642696e-03\n",
      "C(no_music)             1.0    0.003652  0.003652   0.013687  9.068830e-01\n",
      "C(jukebox)              1.0    1.586050  1.586050   5.944717  1.489145e-02\n",
      "C(live)                 1.0    0.175717  0.175717   0.658609  4.171963e-01\n",
      "C(video)                1.0    0.002357  0.002357   0.008834  9.251319e-01\n",
      "C(karaoke)              1.0    0.483603  0.483603   1.812604  1.784253e-01\n",
      "Residual             1332.0  355.377513  0.266800        NaN           NaN\n"
     ]
    }
   ],
   "source": [
    "# ANOVA Part3(Music)\n",
    "formula = 'stars~C(dj)+C(background_music)+C(no_music)+C(jukebox)+C(live)+C(video)+C(karaoke)'\n",
    "anova3 = anova_lm(ols(formula,df_m).fit())\n",
    "print(anova3)\n",
    "# Background_music, jukebox, dj are significant. Next we will apply Tuckey multiple comparison."
   ]
  },
  {
   "cell_type": "code",
   "execution_count": 20,
   "id": "b7214a05-df49-4201-9324-4aed395f9986",
   "metadata": {
    "colab": {
     "base_uri": "https://localhost:8080/",
     "height": 398
    },
    "id": "10450c99",
    "outputId": "d98f475d-a3aa-4844-8034-ec37599e1065"
   },
   "outputs": [
    {
     "name": "stdout",
     "output_type": "stream",
     "text": [
      "Multiple Comparison of Means - Tukey HSD, FWER=0.05 \n",
      "====================================================\n",
      "group1 group2 meandiff p-adj   lower   upper  reject\n",
      "----------------------------------------------------\n",
      " False   True  -0.3759 0.0044 -0.6343 -0.1174   True\n",
      "----------------------------------------------------\n"
     ]
    }
   ],
   "source": [
    "# Tuckey Multiple Comparison\n",
    "BM = pairwise_tukeyhsd(df_m['stars'],df_m['background_music'])\n",
    "print(BM.summary())\n",
    "# background_music: True has less stars than False"
   ]
  },
  {
   "cell_type": "code",
   "execution_count": 21,
   "id": "2f802cfd-bd55-4743-aa2d-19b145071adb",
   "metadata": {
    "colab": {
     "base_uri": "https://localhost:8080/",
     "height": 381
    },
    "id": "68d4fea6",
    "outputId": "d1e8ff22-ad46-43ff-93a7-138f3d67a12d"
   },
   "outputs": [
    {
     "name": "stdout",
     "output_type": "stream",
     "text": [
      "Multiple Comparison of Means - Tukey HSD, FWER=0.05 \n",
      "====================================================\n",
      "group1 group2 meandiff p-adj   lower   upper  reject\n",
      "----------------------------------------------------\n",
      " False   True  -0.2905 0.0234 -0.5416 -0.0394   True\n",
      "----------------------------------------------------\n"
     ]
    }
   ],
   "source": [
    "J = pairwise_tukeyhsd(df_m['stars'],df_m['jukebox'])\n",
    "print(J.summary())\n",
    "# jukebox: True has less stars than False"
   ]
  },
  {
   "cell_type": "code",
   "execution_count": 22,
   "id": "4b762a0d-2f7b-4f99-ae8b-60ff90f5b3d0",
   "metadata": {
    "colab": {
     "base_uri": "https://localhost:8080/",
     "height": 381
    },
    "id": "fdc2c940",
    "outputId": "e2b8d02e-e525-4a32-90e7-f77aa355bc40"
   },
   "outputs": [
    {
     "name": "stdout",
     "output_type": "stream",
     "text": [
      "Multiple Comparison of Means - Tukey HSD, FWER=0.05\n",
      "===================================================\n",
      "group1 group2 meandiff p-adj  lower   upper  reject\n",
      "---------------------------------------------------\n",
      " False   True  -0.5631 0.001 -0.7511 -0.3752   True\n",
      "---------------------------------------------------\n"
     ]
    }
   ],
   "source": [
    "DJ = pairwise_tukeyhsd(df_m['stars'],df_m['dj'])\n",
    "print(DJ.summary())\n",
    "# DJ: True has less stars than False"
   ]
  },
  {
   "cell_type": "code",
   "execution_count": 23,
   "id": "2c3cf4b7-0cf9-46d3-8f8d-ce90d798c4d3",
   "metadata": {
    "colab": {
     "base_uri": "https://localhost:8080/"
    },
    "id": "2d365c5c",
    "outputId": "25708de1-250d-4646-a8aa-82d3d7a93be9"
   },
   "outputs": [
    {
     "name": "stdout",
     "output_type": "stream",
     "text": [
      "                 df      sum_sq   mean_sq          F    PR(>F)\n",
      "C(touristy)     1.0    0.686323  0.686323   2.543483  0.110988\n",
      "C(hipster)      1.0    1.119910  1.119910   4.150337  0.041824\n",
      "C(romantic)     1.0    1.265193  1.265193   4.688750  0.030538\n",
      "C(divey)        1.0    0.053464  0.053464   0.198137  0.656302\n",
      "C(intimate)     1.0    1.874627  1.874627   6.947284  0.008492\n",
      "C(upscale)      1.0    0.385845  0.385845   1.429925  0.231990\n",
      "C(classy)       1.0    0.098645  0.098645   0.365572  0.545531\n",
      "C(casual)       1.0    4.800268  4.800268  17.789577  0.000026\n",
      "Residual     1329.0  358.612024  0.269836        NaN       NaN\n"
     ]
    }
   ],
   "source": [
    "# ANOVA Part4(Ambience)\n",
    "formula = 'stars~C(touristy)+C(hipster)+C(romantic)+C(divey)+C(intimate)+C(upscale)+C(classy)+C(casual)'\n",
    "anova4 = anova_lm(ols(formula,df_a).fit())\n",
    "print(anova4)\n",
    "# Casual, intimate, romantic, hipster are significant. Next we will apply Tuckey multiple comparison."
   ]
  },
  {
   "cell_type": "code",
   "execution_count": 24,
   "id": "7d3a76b2-ac1b-424b-aa5e-3661143c53ef",
   "metadata": {
    "colab": {
     "base_uri": "https://localhost:8080/"
    },
    "id": "49b8e5bb",
    "outputId": "45d1da1c-77b8-40ed-ae4d-fcf732f9305a"
   },
   "outputs": [
    {
     "name": "stdout",
     "output_type": "stream",
     "text": [
      "Multiple Comparison of Means - Tukey HSD, FWER=0.05\n",
      "==================================================\n",
      "group1 group2 meandiff p-adj  lower  upper  reject\n",
      "--------------------------------------------------\n",
      " False   True   0.1455 0.0332 0.0116 0.2793   True\n",
      "--------------------------------------------------\n"
     ]
    }
   ],
   "source": [
    "# Tuckey Multiple Comparison\n",
    "R = pairwise_tukeyhsd(df_a['stars'],df_a['romantic'])\n",
    "print(R.summary())\n",
    "# romantic: False has less stars than True"
   ]
  },
  {
   "cell_type": "code",
   "execution_count": 25,
   "id": "2a9a1753-1046-4689-9300-8d7925fa8afb",
   "metadata": {
    "colab": {
     "base_uri": "https://localhost:8080/",
     "height": 346
    },
    "id": "c95120d7",
    "outputId": "62f1308d-d315-414d-9f56-2f949c96a873"
   },
   "outputs": [
    {
     "name": "stdout",
     "output_type": "stream",
     "text": [
      "Multiple Comparison of Means - Tukey HSD, FWER=0.05\n",
      "==================================================\n",
      "group1 group2 meandiff p-adj  lower  upper  reject\n",
      "--------------------------------------------------\n",
      " False   True   0.1864 0.0013 0.0731 0.2996   True\n",
      "--------------------------------------------------\n"
     ]
    }
   ],
   "source": [
    "I = pairwise_tukeyhsd(df_a['stars'],df_a['intimate'])\n",
    "print(I.summary())\n",
    "# intimate: False has less stars than True"
   ]
  },
  {
   "cell_type": "code",
   "execution_count": 26,
   "id": "0b09381d-fbf9-4f56-bd8c-d07048e5917e",
   "metadata": {
    "colab": {
     "base_uri": "https://localhost:8080/",
     "height": 346
    },
    "id": "c95120d7",
    "outputId": "62f1308d-d315-414d-9f56-2f949c96a873"
   },
   "outputs": [
    {
     "name": "stdout",
     "output_type": "stream",
     "text": [
      "Multiple Comparison of Means - Tukey HSD, FWER=0.05\n",
      "==================================================\n",
      "group1 group2 meandiff p-adj  lower  upper  reject\n",
      "--------------------------------------------------\n",
      " False   True   0.1009 0.0489 0.0005 0.2013   True\n",
      "--------------------------------------------------\n"
     ]
    }
   ],
   "source": [
    "H = pairwise_tukeyhsd(df_a['stars'],df_a['hipster'])\n",
    "print(H.summary())\n",
    "# hipster: False has less stars than True"
   ]
  },
  {
   "cell_type": "code",
   "execution_count": 27,
   "id": "d17ac28f-0715-43a2-b0e2-afd419278671",
   "metadata": {
    "colab": {
     "base_uri": "https://localhost:8080/",
     "height": 346
    },
    "id": "c95120d7",
    "outputId": "62f1308d-d315-414d-9f56-2f949c96a873"
   },
   "outputs": [
    {
     "name": "stdout",
     "output_type": "stream",
     "text": [
      "Multiple Comparison of Means - Tukey HSD, FWER=0.05\n",
      "===================================================\n",
      "group1 group2 meandiff p-adj  lower   upper  reject\n",
      "---------------------------------------------------\n",
      " False   True  -0.1154 0.001 -0.1718 -0.0591   True\n",
      "---------------------------------------------------\n"
     ]
    }
   ],
   "source": [
    "C = pairwise_tukeyhsd(df_a['stars'],df_a['casual'])\n",
    "print(C.summary())\n",
    "# casual: True has less stars than False"
   ]
  },
  {
   "cell_type": "code",
   "execution_count": 28,
   "id": "adb84ada-c87d-4427-b6a5-07be770c469a",
   "metadata": {
    "colab": {
     "base_uri": "https://localhost:8080/"
    },
    "id": "acbd1fb2",
    "outputId": "f749edb7-58eb-49ec-ff04-268b2231f56e"
   },
   "outputs": [],
   "source": [
    "## Decision Tree\n",
    "#y = df1['stars'] # labels\n",
    "#x = df1.drop('stars',axis=1) \n",
    "#x = pd.concat([df1.drop('stars',axis=1),df_bp.drop('stars',axis=1),df_m.drop('stars',axis=1),df_a.drop('stars',axis=1)], axis=1) # data\n",
    "#x = pd.get_dummies(x) # one hot encoding since categorical data cannot be handled well\n",
    "#x_train , x_test , y_train , y_test = train_test_split(x, y, train_size=0.8, test_size=0.2)\n",
    "## Random Forest\n",
    "#forest = RandomForestClassifier()\n",
    "#forest.fit(x_train , y_train.astype('int'))\n",
    "## Predict\n",
    "#y_pred_test = forest.predict(x_test)\n",
    "## Model Performance\n",
    "#print(\"Accuracy:\", accuracy_score(y_test.astype('int') , y_pred_test.astype('int'))) \n",
    "#print(\"\\nConfusion Matrix:\")\n",
    "#print(confusion_matrix(y_test.astype('int') , y_pred_test.astype('int')))\n",
    "\n",
    "#Accuracy: 0.6477272727272727\n",
    "\n",
    "#Confusion Matrix:\n",
    "#[[ 0  0  1]\n",
    "# [ 0 15 16]\n",
    "# [ 0 14 42]]"
   ]
  },
  {
   "cell_type": "code",
   "execution_count": null,
   "id": "596774b4-491f-40d7-b338-2da960ec7ebd",
   "metadata": {},
   "outputs": [],
   "source": []
  }
 ],
 "metadata": {
  "kernelspec": {
   "display_name": "Python 3",
   "language": "python",
   "name": "python3"
  },
  "language_info": {
   "codemirror_mode": {
    "name": "ipython",
    "version": 3
   },
   "file_extension": ".py",
   "mimetype": "text/x-python",
   "name": "python",
   "nbconvert_exporter": "python",
   "pygments_lexer": "ipython3",
   "version": "3.8.8"
  }
 },
 "nbformat": 4,
 "nbformat_minor": 5
}
