{
 "cells": [
  {
   "cell_type": "code",
   "execution_count": 22,
   "metadata": {},
   "outputs": [],
   "source": [
    "import pandas as pd\n",
    "import numpy as np"
   ]
  },
  {
   "cell_type": "code",
   "execution_count": 23,
   "metadata": {},
   "outputs": [],
   "source": [
    "business = pd.read_csv('bars_business.csv')\n",
    "#review = pd.read_csv('bars_review.csv')\n",
    "#tip = pd.read_csv('bars_tip.csv')\n",
    "#user = pd.read_csv('bars_user.csv')\n"
   ]
  },
  {
   "cell_type": "code",
   "execution_count": 24,
   "metadata": {},
   "outputs": [],
   "source": [
    "business['attributes'] = business['attributes'].apply(eval)"
   ]
  },
  {
   "cell_type": "code",
   "execution_count": 25,
   "metadata": {},
   "outputs": [],
   "source": [
    "att_dict = {}\n",
    "for index, row in business['attributes'].items():\n",
    "    for k, v in row.items():\n",
    "        if k not in att_dict:\n",
    "            att_dict[k] = 0\n",
    "        att_dict[k] += 1"
   ]
  },
  {
   "cell_type": "code",
   "execution_count": 26,
   "metadata": {},
   "outputs": [],
   "source": [
    "att_Ser = pd.Series(att_dict)\n",
    "att_Ser = att_Ser[pd.Series(att_dict)/len(business) > 0.7]"
   ]
  },
  {
   "cell_type": "code",
   "execution_count": 27,
   "metadata": {},
   "outputs": [],
   "source": [
    "att_df = pd.DataFrame(data=np.NaN, index=business.index, columns=att_Ser.keys())"
   ]
  },
  {
   "cell_type": "code",
   "execution_count": 28,
   "metadata": {
    "scrolled": true
   },
   "outputs": [],
   "source": [
    "for index, rows in att_df.iterrows():\n",
    "    for k in business.loc[index, 'attributes']:\n",
    "        if k in att_Ser.keys():\n",
    "            att_df.loc[index, k] = business.loc[index, 'attributes'][k]"
   ]
  },
  {
   "cell_type": "code",
   "execution_count": 29,
   "metadata": {},
   "outputs": [],
   "source": [
    "att_df['NoiseLevel']=att_df['NoiseLevel'].astype(str)\n",
    "for i in range(len(att_df)):\n",
    "    if not att_df['NoiseLevel'][i]:\n",
    "        continue\n",
    "    elif att_df['NoiseLevel'][i].startswith(\"u\"):\n",
    "        att_df['NoiseLevel'][i]=att_df['NoiseLevel'][i][1:]"
   ]
  },
  {
   "cell_type": "code",
   "execution_count": 30,
   "metadata": {},
   "outputs": [],
   "source": [
    "att_df['NoiseLevel']=att_df['NoiseLevel'].astype(str)\n",
    "for i in range(len(att_df)):\n",
    "    if not att_df['NoiseLevel'][i]:\n",
    "        continue\n",
    "    if att_df['NoiseLevel'][i]==\"'average'\":\n",
    "        att_df['NoiseLevel'][i]=1\n",
    "    else:\n",
    "        att_df['NoiseLevel'][i]=0\n",
    "            \n",
    "    "
   ]
  },
  {
   "cell_type": "code",
   "execution_count": 31,
   "metadata": {},
   "outputs": [],
   "source": [
    "att_df['WiFi']=att_df['WiFi'].astype(str)\n",
    "for i in range(len(att_df)):\n",
    "    if att_df['WiFi'][i].startswith(\"u\"):\n",
    "        att_df['WiFi'][i]=att_df['WiFi'][i][1:]\n"
   ]
  },
  {
   "cell_type": "code",
   "execution_count": 32,
   "metadata": {},
   "outputs": [],
   "source": [
    "att_df['WiFi']=att_df['WiFi'].astype(str)\n",
    "for i in range(len(att_df)):\n",
    "    if att_df['WiFi'][i]==\"'free'\":\n",
    "        att_df['WiFi'][i]=1\n",
    "    else:\n",
    "        att_df['WiFi'][i]=0"
   ]
  },
  {
   "cell_type": "code",
   "execution_count": 33,
   "metadata": {},
   "outputs": [],
   "source": [
    "att_df['Alcohol']=att_df['Alcohol'].astype(str)\n",
    "for i in range(len(att_df)):\n",
    "    if att_df['Alcohol'][i].startswith(\"u\"):\n",
    "        att_df['Alcohol'][i]=att_df['Alcohol'][i][1:]\n"
   ]
  },
  {
   "cell_type": "code",
   "execution_count": 34,
   "metadata": {},
   "outputs": [],
   "source": [
    "att_df['Alcohol']=att_df['Alcohol'].astype(str)\n",
    "for i in range(len(att_df)):\n",
    "    if att_df['Alcohol'][i]==\"'full_bar'\":\n",
    "        att_df['Alcohol'][i]=1\n",
    "    else:\n",
    "        att_df['Alcohol'][i]=0"
   ]
  },
  {
   "cell_type": "code",
   "execution_count": 35,
   "metadata": {},
   "outputs": [],
   "source": [
    "att_df['BusinessParking']=att_df['BusinessParking'].astype(str)\n",
    "for i in range(len(att_df)):\n",
    "\n",
    "        if att_df['BusinessParking'][i]==\"{'garage': False, 'street': True, 'validated': False, 'lot': False, 'valet': False}\":\n",
    "            att_df['BusinessParking'][i]=1\n",
    "        else:\n",
    "            att_df['BusinessParking'][i]=0\n",
    "    "
   ]
  },
  {
   "cell_type": "code",
   "execution_count": 36,
   "metadata": {},
   "outputs": [],
   "source": [
    "att_df['Music']=att_df['Music'].astype(str)\n",
    "for i in range(len(att_df)):\n",
    "    if att_df['Music'][i]==\"{'dj': False, 'background_music': False, 'no_music': False, 'jukebox': False, 'live': False, 'video': False, 'karaoke': False}\":\n",
    "        att_df['Music'][i]=1\n",
    "    else:\n",
    "        att_df['Music'][i]=0"
   ]
  },
  {
   "cell_type": "code",
   "execution_count": 37,
   "metadata": {},
   "outputs": [],
   "source": [
    "att_df['Ambience']=att_df['Ambience'].astype(str)\n",
    "for i in range(len(att_df)):\n",
    "    if att_df['Ambience'][i]==\"{'touristy': False, 'hipster': False, 'romantic': False, 'divey': False, 'intimate': False, 'trendy': False, 'upscale': False, 'classy': True, 'casual': False}\":\n",
    "        att_df['Ambience'][i]=1\n",
    "    else:\n",
    "        att_df['Ambience'][i]=0"
   ]
  },
  {
   "cell_type": "code",
   "execution_count": 38,
   "metadata": {},
   "outputs": [],
   "source": [
    "att_df['RestaurantsPriceRange2']=att_df['RestaurantsPriceRange2'].astype(str)\n",
    "for i in range(len(att_df)):\n",
    "    if att_df['RestaurantsPriceRange2'][i]==\"2\":\n",
    "        att_df['RestaurantsPriceRange2'][i]=1\n",
    "    else:\n",
    "        att_df['RestaurantsPriceRange2'][i]=0"
   ]
  },
  {
   "cell_type": "code",
   "execution_count": 39,
   "metadata": {},
   "outputs": [],
   "source": [
    "vlist=['BikeParking','BusinessAcceptsCreditCards','RestaurantsReservations','RestaurantsTakeOut','RestaurantsDelivery','HasTV','RestaurantsGoodForGroups','OutdoorSeating','HappyHour']\n",
    "for variable in vlist:\n",
    "    att_df[variable]=att_df[variable].astype(str)\n",
    "    for i in range(len(att_df)):\n",
    "        if att_df[variable][i] is None:\n",
    "            continue\n",
    "        elif att_df[variable][i]==\"True\":\n",
    "            att_df[variable][i]=1\n",
    "        else:\n",
    "            att_df[variable][i]=0\n",
    "\n",
    "    "
   ]
  },
  {
   "cell_type": "code",
   "execution_count": 40,
   "metadata": {},
   "outputs": [],
   "source": [
    "att_df['stars']=business['stars']"
   ]
  },
  {
   "cell_type": "code",
   "execution_count": 41,
   "metadata": {},
   "outputs": [],
   "source": [
    "att_df.to_csv('attributes.csv',index=False)"
   ]
  },
  {
   "cell_type": "code",
   "execution_count": null,
   "metadata": {},
   "outputs": [],
   "source": []
  }
 ],
 "metadata": {
  "kernelspec": {
   "display_name": "Python 3",
   "language": "python",
   "name": "python3"
  },
  "language_info": {
   "codemirror_mode": {
    "name": "ipython",
    "version": 3
   },
   "file_extension": ".py",
   "mimetype": "text/x-python",
   "name": "python",
   "nbconvert_exporter": "python",
   "pygments_lexer": "ipython3",
   "version": "3.8.8"
  },
  "toc": {
   "base_numbering": 1,
   "nav_menu": {},
   "number_sections": true,
   "sideBar": true,
   "skip_h1_title": false,
   "title_cell": "Table of Contents",
   "title_sidebar": "Contents",
   "toc_cell": false,
   "toc_position": {},
   "toc_section_display": true,
   "toc_window_display": false
  }
 },
 "nbformat": 4,
 "nbformat_minor": 4
}
